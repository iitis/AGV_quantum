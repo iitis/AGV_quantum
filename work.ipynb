{
 "cells": [
  {
   "cell_type": "code",
   "execution_count": 1,
   "metadata": {},
   "outputs": [],
   "source": [
    "%load_ext dotenv\n",
    "%reload_ext dotenv\n",
    "%dotenv"
   ]
  },
  {
   "cell_type": "code",
   "execution_count": 2,
   "metadata": {},
   "outputs": [],
   "source": [
    "from qiskit_optimization.runtime import QAOAClient\n",
    "from qiskit_optimization.algorithms import MinimumEigenOptimizer\n",
    "from qiskit_optimization.translators import from_docplex_mp"
   ]
  },
  {
   "cell_type": "code",
   "execution_count": 3,
   "metadata": {},
   "outputs": [
    {
     "data": {
      "text/plain": [
       "<AccountProvider for IBMQ(hub='ibm-q', group='open', project='main')>"
      ]
     },
     "execution_count": 3,
     "metadata": {},
     "output_type": "execute_result"
    }
   ],
   "source": [
    "import os\n",
    "from qiskit import IBMQ\n",
    "IBMQ.enable_account(os.environ[\"IBMQ_TOKEN\"])"
   ]
  },
  {
   "cell_type": "code",
   "execution_count": 4,
   "metadata": {},
   "outputs": [],
   "source": [
    "provider = IBMQ.get_provider(hub=\"ibm-q\", group=\"open\", project=\"main\")\n"
   ]
  },
  {
   "cell_type": "code",
   "execution_count": 5,
   "metadata": {},
   "outputs": [],
   "source": [
    "qaoa_mes = QAOAClient(\n",
    "    provider=provider, backend=provider.get_backend(\"simulator_mps\"), reps=2, alpha=0.75\n",
    ")\n",
    "\n",
    "qaoa = MinimumEigenOptimizer(qaoa_mes)"
   ]
  },
  {
   "cell_type": "code",
   "execution_count": 6,
   "metadata": {},
   "outputs": [],
   "source": [
    "from src.quadratic_solver import quadratic_model, load_linear_prog_object\n",
    "from src.utils import load_docpex_model"
   ]
  },
  {
   "cell_type": "code",
   "execution_count": 7,
   "metadata": {},
   "outputs": [],
   "source": [
    "qubo = quadratic_model(\"lp_tiny.pkl\")\n",
    "linear = load_docpex_model(\"examples/tiny.lp\")"
   ]
  },
  {
   "cell_type": "code",
   "execution_count": 8,
   "metadata": {},
   "outputs": [],
   "source": [
    "len(list(qubo.iter_variables()))\n",
    "qubo_qiskit = from_docplex_mp(qubo)\n",
    "lin_qiskit = from_docplex_mp(linear)"
   ]
  },
  {
   "cell_type": "code",
   "execution_count": 9,
   "metadata": {},
   "outputs": [
    {
     "data": {
      "text/plain": [
       "10"
      ]
     },
     "execution_count": 9,
     "metadata": {},
     "output_type": "execute_result"
    }
   ],
   "source": [
    "lin_qiskit.get_num_vars()"
   ]
  },
  {
   "cell_type": "code",
   "execution_count": 10,
   "metadata": {},
   "outputs": [
    {
     "ename": "RuntimeError",
     "evalue": "The job cdmdavi2h6kvivdih780 failed unexpectedly.",
     "output_type": "error",
     "traceback": [
      "\u001b[0;31m---------------------------------------------------------------------------\u001b[0m",
      "\u001b[0;31mRuntimeJobFailureError\u001b[0m                    Traceback (most recent call last)",
      "File \u001b[0;32m~/anaconda3/envs/qiskit-optim/lib/python3.10/site-packages/qiskit_optimization/runtime/vqe_client.py:303\u001b[0m, in \u001b[0;36mVQEClient.compute_minimum_eigenvalue\u001b[0;34m(self, operator, aux_operators)\u001b[0m\n\u001b[1;32m    302\u001b[0m \u001b[39mtry\u001b[39;00m:\n\u001b[0;32m--> 303\u001b[0m     result \u001b[39m=\u001b[39m job\u001b[39m.\u001b[39;49mresult()\n\u001b[1;32m    304\u001b[0m \u001b[39mexcept\u001b[39;00m \u001b[39mException\u001b[39;00m \u001b[39mas\u001b[39;00m exc:\n",
      "File \u001b[0;32m~/anaconda3/envs/qiskit-optim/lib/python3.10/site-packages/qiskit/providers/ibmq/runtime/runtime_job.py:151\u001b[0m, in \u001b[0;36mRuntimeJob.result\u001b[0;34m(self, timeout, wait, decoder)\u001b[0m\n\u001b[1;32m    150\u001b[0m \u001b[39mif\u001b[39;00m \u001b[39mself\u001b[39m\u001b[39m.\u001b[39m_status \u001b[39m==\u001b[39m JobStatus\u001b[39m.\u001b[39mERROR:\n\u001b[0;32m--> 151\u001b[0m     \u001b[39mraise\u001b[39;00m RuntimeJobFailureError(\u001b[39mf\u001b[39m\u001b[39m\"\u001b[39m\u001b[39mUnable to retrieve job result. \u001b[39m\u001b[39m\"\u001b[39m\n\u001b[1;32m    152\u001b[0m                                  \u001b[39mf\u001b[39m\u001b[39m\"\u001b[39m\u001b[39m{\u001b[39;00m\u001b[39mself\u001b[39m\u001b[39m.\u001b[39merror_message()\u001b[39m}\u001b[39;00m\u001b[39m\"\u001b[39m)\n\u001b[1;32m    153\u001b[0m result_raw \u001b[39m=\u001b[39m \u001b[39mself\u001b[39m\u001b[39m.\u001b[39m_api_client\u001b[39m.\u001b[39mjob_results(job_id\u001b[39m=\u001b[39m\u001b[39mself\u001b[39m\u001b[39m.\u001b[39mjob_id())\n",
      "\u001b[0;31mRuntimeJobFailureError\u001b[0m: 'Unable to retrieve job result. Job cdmdavi2h6kvivdih780 ran longer than maximum execution time. Job was cancelled:\\n'",
      "\nThe above exception was the direct cause of the following exception:\n",
      "\u001b[0;31mRuntimeError\u001b[0m                              Traceback (most recent call last)",
      "Cell \u001b[0;32mIn [10], line 1\u001b[0m\n\u001b[0;32m----> 1\u001b[0m result \u001b[39m=\u001b[39m qaoa\u001b[39m.\u001b[39;49msolve(lin_qiskit)\n\u001b[1;32m      2\u001b[0m \u001b[39mprint\u001b[39m(result\u001b[39m.\u001b[39mprettyprint())\n",
      "File \u001b[0;32m~/anaconda3/envs/qiskit-optim/lib/python3.10/site-packages/qiskit_optimization/algorithms/minimum_eigen_optimizer.py:197\u001b[0m, in \u001b[0;36mMinimumEigenOptimizer.solve\u001b[0;34m(self, problem)\u001b[0m\n\u001b[1;32m    194\u001b[0m \u001b[39m# construct operator and offset\u001b[39;00m\n\u001b[1;32m    195\u001b[0m operator, offset \u001b[39m=\u001b[39m problem_\u001b[39m.\u001b[39mto_ising()\n\u001b[0;32m--> 197\u001b[0m \u001b[39mreturn\u001b[39;00m \u001b[39mself\u001b[39;49m\u001b[39m.\u001b[39;49m_solve_internal(operator, offset, problem_, problem)\n",
      "File \u001b[0;32m~/anaconda3/envs/qiskit-optim/lib/python3.10/site-packages/qiskit_optimization/algorithms/minimum_eigen_optimizer.py:210\u001b[0m, in \u001b[0;36mMinimumEigenOptimizer._solve_internal\u001b[0;34m(self, operator, offset, converted_problem, original_problem)\u001b[0m\n\u001b[1;32m    207\u001b[0m eigen_result: Optional[MinimumEigensolverResult] \u001b[39m=\u001b[39m \u001b[39mNone\u001b[39;00m\n\u001b[1;32m    208\u001b[0m \u001b[39mif\u001b[39;00m operator\u001b[39m.\u001b[39mnum_qubits \u001b[39m>\u001b[39m \u001b[39m0\u001b[39m:\n\u001b[1;32m    209\u001b[0m     \u001b[39m# approximate ground state of operator using min eigen solver\u001b[39;00m\n\u001b[0;32m--> 210\u001b[0m     eigen_result \u001b[39m=\u001b[39m \u001b[39mself\u001b[39;49m\u001b[39m.\u001b[39;49m_min_eigen_solver\u001b[39m.\u001b[39;49mcompute_minimum_eigenvalue(operator)\n\u001b[1;32m    211\u001b[0m     \u001b[39m# analyze results\u001b[39;00m\n\u001b[1;32m    212\u001b[0m     raw_samples \u001b[39m=\u001b[39m \u001b[39mNone\u001b[39;00m\n",
      "File \u001b[0;32m~/anaconda3/envs/qiskit-optim/lib/python3.10/site-packages/qiskit_optimization/runtime/vqe_client.py:305\u001b[0m, in \u001b[0;36mVQEClient.compute_minimum_eigenvalue\u001b[0;34m(self, operator, aux_operators)\u001b[0m\n\u001b[1;32m    303\u001b[0m     result \u001b[39m=\u001b[39m job\u001b[39m.\u001b[39mresult()\n\u001b[1;32m    304\u001b[0m \u001b[39mexcept\u001b[39;00m \u001b[39mException\u001b[39;00m \u001b[39mas\u001b[39;00m exc:\n\u001b[0;32m--> 305\u001b[0m     \u001b[39mraise\u001b[39;00m \u001b[39mRuntimeError\u001b[39;00m(\u001b[39mf\u001b[39m\u001b[39m\"\u001b[39m\u001b[39mThe job \u001b[39m\u001b[39m{\u001b[39;00mjob\u001b[39m.\u001b[39mjob_id()\u001b[39m}\u001b[39;00m\u001b[39m failed unexpectedly.\u001b[39m\u001b[39m\"\u001b[39m) \u001b[39mfrom\u001b[39;00m \u001b[39mexc\u001b[39;00m\n\u001b[1;32m    307\u001b[0m \u001b[39m# re-build result from serialized return value\u001b[39;00m\n\u001b[1;32m    308\u001b[0m vqe_result \u001b[39m=\u001b[39m VQERuntimeResult()\n",
      "\u001b[0;31mRuntimeError\u001b[0m: The job cdmdavi2h6kvivdih780 failed unexpectedly."
     ]
    }
   ],
   "source": [
    "result = qaoa.solve(lin_qiskit)\n",
    "print(result.prettyprint())"
   ]
  },
  {
   "cell_type": "code",
   "execution_count": null,
   "metadata": {},
   "outputs": [
    {
     "name": "stdout",
     "output_type": "stream",
     "text": [
      "qaoa:\n",
      "  Name: qaoa\n",
      "  Description: Qiskit Runtime QAOA program.\n",
      "  Creation date: 2021-12-15T14:28:41.593027Z\n",
      "  Update date: 2022-11-04T20:31:29.59236Z\n",
      "  Max execution time: 18000\n",
      "  Input parameters:\n",
      "    Properties:\n",
      "        - alpha:\n",
      "            Description: The fraction of top measurement samples to be used for the expectation value (CVaR expectation). Defaults to 1, i.e. using all samples to construct the expectation value.\n",
      "            Type: number\n",
      "            Required: False\n",
      "        - aux_operators:\n",
      "            Description: A list of operators to be evaluated at the final, optimized state. This must be a List[PauliSumOp].\n",
      "            Type: array\n",
      "            Required: False\n",
      "        - initial_point:\n",
      "            Description: Initial parameters of the ansatz. Can be an array or the string ``'random'`` to choose random initial parameters. The type must be numpy.ndarray or str.\n",
      "            Type: ['array', 'string']\n",
      "            Required: False\n",
      "        - measurement_error_mitigation:\n",
      "            Default: False\n",
      "            Description: Whether to apply measurement error mitigation in form of a tensored measurement fitter to the measurements. Defaults to False.\n",
      "            Type: boolean\n",
      "            Required: False\n",
      "        - operator:\n",
      "            Description: The cost Hamiltonian, consisting of Pauli I and Z operators, whose smallest eigenvalue we're trying to find. The type must be a PauliSumOp.\n",
      "            Type: object\n",
      "            Required: True\n",
      "        - optimization_level:\n",
      "            Default: 1\n",
      "            Description: The optimization level to run if the swap strategies are not used. This value is 1 by default. This is an integer.\n",
      "            Type: integer\n",
      "            Required: False\n",
      "        - optimizer:\n",
      "            Description: The classical optimizer used to update the parameters in each iteration. Per default, SPSA with automatic calibration of the learning rate is used. The type must be a qiskit.algorithms.optimizers.Optimizer.\n",
      "            Type: object\n",
      "            Required: False\n",
      "        - reps:\n",
      "            Default: 1\n",
      "            Description: The number of QAOA repetitions, i.e. the QAOA depth typically labeled p. This value defaults to 1. This is an integer.\n",
      "            Type: integer\n",
      "            Required: False\n",
      "        - shots:\n",
      "            Default: 1024\n",
      "            Description: The integer number of shots used for each circuit evaluation. Defaults to 1024.\n",
      "            Type: integer\n",
      "            Required: False\n",
      "        - use_initial_mapping:\n",
      "            Default: False\n",
      "            Description: A boolean flag that, if set to True (the default is False), runs a heuristic algorithm to permute the Paulis in the cost operator to better fit the coupling map and the swap strategy. This is only needed when the optimization problem is sparse and when using swap strategies to transpile.\n",
      "            Type: boolean\n",
      "            Required: False\n",
      "        - use_pulse_efficient:\n",
      "            Default: False\n",
      "            Description: A boolean on whether or not to use a pulse-efficient transpilation. This flag is set to False by default.\n",
      "            Type: boolean\n",
      "            Required: False\n",
      "        - use_swap_strategies:\n",
      "            Default: True\n",
      "            Description: A boolean on whether or not to use swap strategies when transpiling. This flag is set to True by default. If this is False then the standard transpiler with the given optimization level will run.\n",
      "            Type: boolean\n",
      "            Required: False\n",
      "  Interim results:\n",
      "    none\n",
      "  Returns:\n",
      "    Properties:\n",
      "        - aux_operator_eigenvalues:\n",
      "            Description: The expectation values of the auxiliary operators at the optimal state.\n",
      "            Type: array\n",
      "            Required: False\n",
      "        - cost_function_evals:\n",
      "            Description: The number of cost function (energy) evaluations. This is an integer.\n",
      "            Type: number\n",
      "            Required: False\n",
      "        - eigenstate:\n",
      "            Description: The square root of sampling probabilities for each computational basis state of the circuit with optimal parameters.\n",
      "            Type: object\n",
      "            Required: False\n",
      "        - eigenvalue:\n",
      "            Description: The estimated smallest eigenvalue.\n",
      "            Type: number\n",
      "            Required: False\n",
      "        - inputs:\n",
      "            Description: A dictionary of the serialized input keyword arguments. The type is Dict[str, Any].\n",
      "            Type: object\n",
      "            Required: False\n",
      "        - optimal_parameters:\n",
      "            Description: Not supported at the moment, therefore ``None``.\n",
      "            Type: null\n",
      "            Required: False\n",
      "        - optimal_point:\n",
      "            Description: The optimal parameter values found during the optimization.\n",
      "            Type: array\n",
      "            Required: False\n",
      "        - optimal_value:\n",
      "            Description: The smallest value found during the optimization. Equal to the ``eigenvalue`` attribute.\n",
      "            Type: number\n",
      "            Required: False\n",
      "        - optimizer_history:\n",
      "            Description: A dictionary containing information about the optimization process: the value objective function, parameters, and a timestamp. The type is Dict[str, Any].\n",
      "            Type: object\n",
      "            Required: False\n",
      "        - optimizer_time:\n",
      "            Description: The total time taken by the optimizer.\n",
      "            Type: number\n",
      "            Required: False\n"
     ]
    }
   ],
   "source": [
    "print(provider.runtime.program(\"qaoa\"))"
   ]
  },
  {
   "cell_type": "code",
   "execution_count": 8,
   "metadata": {},
   "outputs": [
    {
     "name": "stderr",
     "output_type": "stream",
     "text": [
      "/tmp/ipykernel_39026/848400363.py:2: DeprecationWarning: Use of `auth` parameter is deprecated and will be removed in a future release. You can now use channel='ibm_cloud' or channel='ibm_quantum' instead.\n",
      "  service = QiskitRuntimeService(token=os.environ[\"IBMQ_TOKEN\"], auth=\"legacy\")\n"
     ]
    }
   ],
   "source": [
    "from qiskit_ibm_runtime import QiskitRuntimeService\n",
    "service = QiskitRuntimeService(token=os.environ[\"IBMQ_TOKEN\"], auth=\"legacy\")\n"
   ]
  },
  {
   "cell_type": "code",
   "execution_count": 9,
   "metadata": {},
   "outputs": [
    {
     "data": {
      "text/plain": [
       "[<IBMBackend('ibmq_qasm_simulator')>,\n",
       " <IBMBackend('ibmq_montreal')>,\n",
       " <IBMBackend('ibmq_toronto')>,\n",
       " <IBMBackend('ibmq_kolkata')>,\n",
       " <IBMBackend('ibmq_mumbai')>,\n",
       " <IBMBackend('simulator_statevector')>,\n",
       " <IBMBackend('simulator_mps')>,\n",
       " <IBMBackend('simulator_extended_stabilizer')>,\n",
       " <IBMBackend('simulator_stabilizer')>,\n",
       " <IBMBackend('ibm_hanoi')>,\n",
       " <IBMBackend('ibm_cairo')>,\n",
       " <IBMBackend('ibm_auckland')>,\n",
       " <IBMBackend('ibm_washington')>,\n",
       " <IBMBackend('ibm_geneva')>,\n",
       " <IBMBackend('ibmq_lima')>,\n",
       " <IBMBackend('ibmq_belem')>,\n",
       " <IBMBackend('ibmq_quito')>,\n",
       " <IBMBackend('ibmq_manila')>,\n",
       " <IBMBackend('ibm_nairobi')>,\n",
       " <IBMBackend('ibm_oslo')>]"
      ]
     },
     "execution_count": 9,
     "metadata": {},
     "output_type": "execute_result"
    }
   ],
   "source": [
    "service.backends()"
   ]
  },
  {
   "cell_type": "code",
   "execution_count": 71,
   "metadata": {},
   "outputs": [],
   "source": [
    "from scipy.sparse import load_npz\n",
    "import io\n",
    "from scipy.io import mmwrite\n"
   ]
  },
  {
   "cell_type": "code",
   "execution_count": 73,
   "metadata": {},
   "outputs": [],
   "source": [
    "buffer = io.BytesIO()\n",
    "J = load_npz(\"tiny_qubo_coo.npz\")\n",
    "mmwrite(buffer, J, field=\"real\", symmetry=\"symmetric\", precision=4)  "
   ]
  },
  {
   "cell_type": "code",
   "execution_count": null,
   "metadata": {},
   "outputs": [],
   "source": []
  }
 ],
 "metadata": {
  "kernelspec": {
   "display_name": "Python 3.10.6 ('roboty')",
   "language": "python",
   "name": "python3"
  },
  "language_info": {
   "codemirror_mode": {
    "name": "ipython",
    "version": 3
   },
   "file_extension": ".py",
   "mimetype": "text/x-python",
   "name": "python",
   "nbconvert_exporter": "python",
   "pygments_lexer": "ipython3",
   "version": "3.10.6"
  },
  "orig_nbformat": 4,
  "vscode": {
   "interpreter": {
    "hash": "27b41f4ea86d4690a2af4aead9382efe6c89da5652b0ded1c5a397aba5669423"
   }
  }
 },
 "nbformat": 4,
 "nbformat_minor": 2
}
